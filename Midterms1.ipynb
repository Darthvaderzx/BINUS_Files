{
  "metadata": {
    "language_info": {
      "codemirror_mode": {
        "name": "python",
        "version": 3
      },
      "file_extension": ".py",
      "mimetype": "text/x-python",
      "name": "python",
      "nbconvert_exporter": "python",
      "pygments_lexer": "ipython3",
      "version": "3.8"
    },
    "kernelspec": {
      "name": "python",
      "display_name": "Pyolite",
      "language": "python"
    },
    "colab": {
      "name": "Midterms1.ipynb",
      "provenance": [],
      "collapsed_sections": [
        "RZyampVhn77G",
        "1ge7_67in77H",
        "W019nXPEn77J"
      ],
      "include_colab_link": true
    }
  },
  "nbformat_minor": 0,
  "nbformat": 4,
  "cells": [
    {
      "cell_type": "markdown",
      "metadata": {
        "id": "view-in-github",
        "colab_type": "text"
      },
      "source": [
        "<a href=\"https://colab.research.google.com/github/Darthvaderzx/Midterm/blob/main/Midterms1.ipynb\" target=\"_parent\"><img src=\"https://colab.research.google.com/assets/colab-badge.svg\" alt=\"Open In Colab\"/></a>"
      ]
    },
    {
      "cell_type": "markdown",
      "source": [
        "# Machine Learning Midterm Exam\n",
        "\n",
        "Samuel Hans - 2440008714\n",
        "\n",
        "\n",
        "---\n",
        "\n",
        "\n",
        "Note: I was unable to import data while using JupyterLite, thus I am using GoogleCollab for my answers\n",
        "\n",
        "Collab link: https://colab.research.google.com/drive/1KuHyMRnSqfyLvHgjxPL4crfU1fyBCnpJ?usp=sharing \n",
        "\n",
        "Initilization cell, data reading:"
      ],
      "metadata": {
        "trusted": true,
        "id": "M3tNSyY6n77C"
      }
    },
    {
      "cell_type": "code",
      "source": [
        "# Initialization\n",
        "import pandas as pd\n",
        "import matplotlib.pyplot as plt\n",
        "from sklearn import linear_model as linear\n",
        "from sklearn.model_selection import train_test_split as split\n",
        "from sklearn.metrics import r2_score,mean_absolute_error\n",
        "import numpy as np\n",
        "\n",
        "\n",
        "url = 'https://raw.githubusercontent.com/Darthvaderzx/Midterm/main/BikeData.csv'\n",
        "data = pd.read_csv(url)\n",
        "print(\"NA values?\")\n",
        "print(data.isna().values.any()) # Checking for NA values, none found\n",
        "print(data.head()) # example data\n",
        "\n"
      ],
      "metadata": {
        "trusted": true,
        "id": "dDi55XE4n77H",
        "outputId": "ceab8d97-42b8-4ec8-a22c-bc635804b130",
        "colab": {
          "base_uri": "https://localhost:8080/"
        }
      },
      "execution_count": 108,
      "outputs": [
        {
          "output_type": "stream",
          "name": "stdout",
          "text": [
            "NA values?\n",
            "False\n",
            "             timestamp  cnt   t1   t2    hum  wind_speed  weather_code  \\\n",
            "0  2015-01-04 00:00:00  182  3.0  2.0   93.0         6.0           3.0   \n",
            "1  2015-01-04 01:00:00  138  3.0  2.5   93.0         5.0           1.0   \n",
            "2  2015-01-04 02:00:00  134  2.5  2.5   96.5         0.0           1.0   \n",
            "3  2015-01-04 03:00:00   72  2.0  2.0  100.0         0.0           1.0   \n",
            "4  2015-01-04 04:00:00   47  2.0  0.0   93.0         6.5           1.0   \n",
            "\n",
            "   is_holiday  is_weekend  season  \n",
            "0         0.0         1.0     3.0  \n",
            "1         0.0         1.0     3.0  \n",
            "2         0.0         1.0     3.0  \n",
            "3         0.0         1.0     3.0  \n",
            "4         0.0         1.0     3.0  \n"
          ]
        }
      ]
    },
    {
      "cell_type": "markdown",
      "source": [
        "\n",
        "\n",
        "---\n",
        "\n",
        "\n",
        "#Question 1\n",
        "\n",
        "> Alternative objective for this dataset?\n",
        "\n",
        "I thnk predicting temperature is a good alternative objective based on this dataset.\n",
        "\n",
        "\n"
      ],
      "metadata": {
        "trusted": true,
        "id": "RZyampVhn77G"
      }
    },
    {
      "cell_type": "markdown",
      "source": [
        "a. Why is this a good objective for this data?\n",
        "\n",
        "> The objective of predicting temperature can be achieved by using many of the features available in the dataset. For example, we know that season, humidity, and wind speed are all related to temperature. Thus it is plausible to predict temperature by using these variables in a machine learning algorithm.\n",
        "\n",
        "b. Which method can be used to solve this objective?\n",
        "\n",
        ">The linear regression model may work for some of the more straighforward features such as windspeed/humidity vs temperature. However, weighting variables and penalization can also be implemented to get better results and incorperate variables like season and weather. Therefore it is more optimal to use a more advanced linear regression model such as ridge regression or lasso regression.\n",
        "\n",
        "c. Show the variables used in the task and explain!\n",
        "> We know some of variables that definitely affect temperature such as: wind speed, humidity, season, and weather. wind speed and humidity are both continous variables, while season and weather are discrete variables. \n",
        "\n",
        "\n",
        "d. Find the expected value on one of the variables!\n",
        "\n",
        ">Since the probability of getting one of any of the seasons is 0.25, the expected value is 0x0.25 + 1x0.25 + 2x0.25 + 3x0.25 = 1.5\n"
      ],
      "metadata": {
        "id": "nLYlZHnsvfY-"
      }
    },
    {
      "cell_type": "code",
      "source": [
        "seasons = data[[\"season\"]]\n",
        "\n",
        "seasons.hist()\n",
        "\n",
        "\n",
        "\n"
      ],
      "metadata": {
        "colab": {
          "base_uri": "https://localhost:8080/",
          "height": 590
        },
        "id": "Vi0SEC_hRjKG",
        "outputId": "19644ccf-4470-49bb-f387-0ecfc9a5931b"
      },
      "execution_count": 127,
      "outputs": [
        {
          "output_type": "execute_result",
          "data": {
            "text/plain": [
              "array([[<matplotlib.axes._subplots.AxesSubplot object at 0x7f40021e1790>]],\n",
              "      dtype=object)"
            ]
          },
          "metadata": {},
          "execution_count": 127
        },
        {
          "output_type": "display_data",
          "data": {
            "text/plain": [
              "<Figure size 1152x648 with 1 Axes>"
            ],
            "image/png": "[encoded data removed]"
          },
          "metadata": {
            "needs_background": "light"
          }
        }
      ]
    },
    {
      "cell_type": "markdown",
      "source": [
        "# Question 2\n",
        "\n",
        "> Comparing data graphs"
      ],
      "metadata": {
        "trusted": true,
        "id": "1ge7_67in77H"
      }
    },
    {
      "cell_type": "code",
      "source": [
        "plt.subplot(221)\n",
        "plt.scatter(data[\"t1\"], data[\"cnt\"], color=\"red\") # Real temperature\n",
        "plt.ylabel(\"Bike Share Count\")\n",
        "\n",
        "plt.subplot(221)\n",
        "plt.scatter(data[\"t2\"], data[\"cnt\"], color=\"blue\")\n",
        "plt.xlabel(\"Real(red)/Feel(blue) Temperature\")\n",
        "plt.ylabel(\"Bike Share Count\")\n",
        "\n",
        "plt.subplot(222)\n",
        "plt.scatter(data[\"weather_code\"], data[\"cnt\"], color=\"blue\")\n",
        "plt.xlabel(\"Weather\")\n",
        "plt.ylabel(\"Bike Share Count\")\n",
        "\n",
        "plt.subplot(223)\n",
        "plt.scatter(data[\"hum\"], data[\"cnt\"], color=\"blue\")\n",
        "plt.xlabel(\"Humidity\")\n",
        "plt.ylabel(\"Bike Share Count\")\n",
        "\n",
        "plt.subplot(224)\n",
        "plt.scatter(data[\"wind_speed\"], data[\"cnt\"], color=\"blue\")\n",
        "plt.xlabel(\"Wind Speed\")\n",
        "plt.ylabel(\"Bike Share Count\")\n",
        "\n",
        "\n",
        "\n",
        "plt.subplots_adjust(hspace = 0.5, wspace = 0.5)\n",
        "plt.show()"
      ],
      "metadata": {
        "colab": {
          "base_uri": "https://localhost:8080/",
          "height": 606
        },
        "id": "NI597EGQ31In",
        "outputId": "663acf94-03b5-41c1-a9b5-853843ae3d8e"
      },
      "execution_count": null,
      "outputs": [
        {
          "output_type": "stream",
          "name": "stderr",
          "text": [
            "/usr/local/lib/python3.7/dist-packages/ipykernel_launcher.py:5: MatplotlibDeprecationWarning: Adding an axes using the same arguments as a previous axes currently reuses the earlier instance.  In a future version, a new instance will always be created and returned.  Meanwhile, this warning can be suppressed, and the future behavior ensured, by passing a unique label to each axes instance.\n",
            "  \"\"\"\n"
          ]
        },
        {
          "output_type": "display_data",
          "data": {
            "text/plain": [
              "<Figure size 1152x648 with 4 Axes>"
            ],
            "image/png": "[encoded data removed]"
          },
          "metadata": {
            "needs_background": "light"
          }
        }
      ]
    },
    {
      "cell_type": "markdown",
      "source": [
        ">Linear Regression"
      ],
      "metadata": {
        "id": "V71Qzyt_rSRs"
      }
    },
    {
      "cell_type": "code",
      "source": [
        "newData = data[[\"cnt\", \"t1\", \"t2\", \"hum\", \"wind_speed\", \"weather_code\"]] #Datas for regression, avoids boolean values\n",
        "print(newData.head())\n",
        "# I chose mutlivariable regression because based on the graphs above, no one data value is good enough for our algorithm\n",
        "\n",
        "testData, trainData = split(newData, test_size=0.3) # 30% of data allocated for testing\n",
        "regression = linear.LinearRegression()\n",
        "x = trainData[[\"t1\", \"hum\", \"wind_speed\", \"weather_code\"]]\n",
        "y = trainData[\"cnt\"]\n",
        "regression.fit(x, y)\n",
        "print('Coefficients = ',  regression.coef_)\n"
      ],
      "metadata": {
        "colab": {
          "base_uri": "https://localhost:8080/"
        },
        "id": "4FAycPWCrkYE",
        "outputId": "3f38cb7b-9564-46d4-fd10-4bdb3bc318bf"
      },
      "execution_count": 70,
      "outputs": [
        {
          "output_type": "stream",
          "name": "stdout",
          "text": [
            "   cnt   t1   t2    hum  wind_speed  weather_code\n",
            "0  182  3.0  2.0   93.0         6.0           3.0\n",
            "1  138  3.0  2.5   93.0         5.0           1.0\n",
            "2  134  2.5  2.5   96.5         0.0           1.0\n",
            "3   72  2.0  2.0  100.0         0.0           1.0\n",
            "4   47  2.0  0.0   93.0         6.5           1.0\n",
            "Coefficients =  [ 45.90216891 -28.05966355  -3.10033797  -7.56035859]\n"
          ]
        }
      ]
    },
    {
      "cell_type": "code",
      "source": [
        "testing = regression.predict(testData[[\"t1\", \"hum\", \"wind_speed\", \"weather_code\"]])\n",
        "\n",
        "print(\"MAE: \", mean_absolute_error(testData[[\"cnt\"]], testing))\n",
        "print(\"R2 : \", r2_score(testData[[\"cnt\"]], testing))\n"
      ],
      "metadata": {
        "colab": {
          "base_uri": "https://localhost:8080/"
        },
        "id": "9eMUVY5D7c7z",
        "outputId": "cbbd4757-ef97-4855-b32c-9e81d1ab7627"
      },
      "execution_count": 71,
      "outputs": [
        {
          "output_type": "stream",
          "name": "stdout",
          "text": [
            "MAE:  690.2006962933517\n",
            "MSE:  869729.2381339775\n",
            "R2 :  0.2528301283307365\n"
          ]
        }
      ]
    },
    {
      "cell_type": "markdown",
      "source": [
        "Performance of the model is not the best, likely due to high variance in the original data. The use of unweighted data also contributes to the resulting performance"
      ],
      "metadata": {
        "id": "JsgQpRozBksW"
      }
    },
    {
      "cell_type": "markdown",
      "source": [
        "# Question 3\n"
      ],
      "metadata": {
        "trusted": true,
        "id": "W019nXPEn77J"
      }
    },
    {
      "cell_type": "code",
      "source": [
        "from sklearn.linear_model import Ridge\n",
        "ridgeData = data[[\"cnt\", \"t1\", \"t2\", \"hum\", \"wind_speed\", \"weather_code\", \"is_holiday\", \"is_weekend\", \"season\"]] \n",
        "print(ridgeData.head())\n",
        "\n",
        "testData, trainData = split(ridgeData, test_size=0.3)\n",
        "x = trainData[[\"t1\", \"hum\", \"wind_speed\", \"weather_code\"]]\n",
        "y = trainData[\"cnt\"]\n",
        "ridge = Ridge(alpha=20)\n",
        "ridge.fit(x, y)\n",
        "print('Coefficients = ',  ridge.coef_)"
      ],
      "metadata": {
        "trusted": true,
        "id": "hr-ZvHLNn77K",
        "colab": {
          "base_uri": "https://localhost:8080/"
        },
        "outputId": "ad56887a-6aea-4ec8-97a1-bd75179f1fe4"
      },
      "execution_count": 105,
      "outputs": [
        {
          "output_type": "stream",
          "name": "stdout",
          "text": [
            "   cnt   t1   t2    hum  wind_speed  weather_code  is_holiday  is_weekend  \\\n",
            "0  182  3.0  2.0   93.0         6.0           3.0         0.0         1.0   \n",
            "1  138  3.0  2.5   93.0         5.0           1.0         0.0         1.0   \n",
            "2  134  2.5  2.5   96.5         0.0           1.0         0.0         1.0   \n",
            "3   72  2.0  2.0  100.0         0.0           1.0         0.0         1.0   \n",
            "4   47  2.0  0.0   93.0         6.5           1.0         0.0         1.0   \n",
            "\n",
            "   season  \n",
            "0     3.0  \n",
            "1     3.0  \n",
            "2     3.0  \n",
            "3     3.0  \n",
            "4     3.0  \n",
            "Coefficients =  [ 44.09502919 -26.57987264  -2.68632898 -12.17783131]\n"
          ]
        }
      ]
    },
    {
      "cell_type": "code",
      "source": [
        "ridgeTest = ridge.predict(testData[[\"t1\", \"hum\", \"wind_speed\", \"weather_code\"]])\n",
        "\n",
        "print(\"MAE: \", mean_absolute_error(testData[[\"cnt\"]], ridgeTest))\n",
        "print(\"R2 : \", r2_score(testData[[\"cnt\"]], ridgeTest))"
      ],
      "metadata": {
        "colab": {
          "base_uri": "https://localhost:8080/"
        },
        "id": "K_VfchIYJN1T",
        "outputId": "898b6fe8-5277-4a6e-f05a-f340163e0a2c"
      },
      "execution_count": 106,
      "outputs": [
        {
          "output_type": "stream",
          "name": "stdout",
          "text": [
            "MAE:  693.7303055256373\n",
            "R2 :  0.2598654961517536\n"
          ]
        }
      ]
    },
    {
      "cell_type": "markdown",
      "source": [
        "#Question 4\n",
        "\n",
        "The difference between Linear Regression and Ridge Regression is that linear regression is the simplest form of regression, where we use a simple formula with no weighted data values, no normalization, and no penalization.\n",
        "\n",
        "Ridge regression on the other hand, affects the coefficients of a normal linear regression, to prevent multicollinearity. By penalizing the equation, we get better results through regularization.\n"
      ],
      "metadata": {
        "trusted": true,
        "id": "h2Byt8fsn77K"
      }
    }
  ]
}